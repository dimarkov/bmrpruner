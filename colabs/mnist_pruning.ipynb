{
  "cells": [
    {
      "cell_type": "code",
      "execution_count": 1,
      "metadata": {
        "cellView": "form",
        "id": "ScyDt14r8MLU"
      },
      "outputs": [],
      "source": [
        "#@title LICENSE\n",
        "# Licensed under the Apache License, Version 2.0"
      ]
    },
    {
      "cell_type": "markdown",
      "metadata": {
        "id": "-BS3RFRLRotm"
      },
      "source": [
        "[![Open In Colab](https://colab.research.google.com/assets/colab-badge.svg)](https://colab.research.google.com/github/google-research/jaxpruner/blob/main/colabs/mnist_pruning.ipynb)"
      ]
    },
    {
      "cell_type": "markdown",
      "metadata": {
        "id": "Tt0rL4ycp4ZB"
      },
      "source": [
        "## Imports / Helpers"
      ]
    },
    {
      "cell_type": "code",
      "execution_count": 2,
      "metadata": {
        "id": "EdzHCJuop4ZB"
      },
      "outputs": [],
      "source": [
        "from absl import logging\n",
        "import flax\n",
        "import jax.numpy as jnp\n",
        "from matplotlib import pyplot as plt\n",
        "import numpy as np\n",
        "import tensorflow_datasets as tfds\n",
        "from flax import linen as nn\n",
        "from flax.metrics import tensorboard\n",
        "from flax.training import train_state\n",
        "import jax\n",
        "import optax\n",
        "import tensorflow as tf\n",
        "# Hide any GPUs form TensorFlow. Otherwise TF might reserve memory and make\n",
        "# it unavailable to JAX.\n",
        "tf.config.experimental.set_visible_devices([], \"GPU\")\n",
        "\n",
        "\n",
        "logging.set_verbosity(logging.INFO)"
      ]
    },
    {
      "cell_type": "code",
      "execution_count": 3,
      "metadata": {
        "id": "AKD2Zjfv8YnK"
      },
      "outputs": [
        {
          "name": "stdout",
          "output_type": "stream",
          "text": [
            "Collecting git+https://github.com/google-research/jaxpruner\n",
            "  Cloning https://github.com/google-research/jaxpruner to /tmp/pip-req-build-l4sdp7ut\n",
            "  Running command git clone --filter=blob:none --quiet https://github.com/google-research/jaxpruner /tmp/pip-req-build-l4sdp7ut\n",
            "  Resolved https://github.com/google-research/jaxpruner to commit e7af4e4e4748782d6bc433249e359f74ffb845ba\n",
            "  Preparing metadata (setup.py) ... \u001b[?25ldone\n",
            "\u001b[?25hRequirement already satisfied: chex in /home/dima/.conda/envs/bmr/lib/python3.11/site-packages (from jaxpruner==0.1) (0.1.89)\n",
            "Requirement already satisfied: flax in /home/dima/.conda/envs/bmr/lib/python3.11/site-packages (from jaxpruner==0.1) (0.10.6)\n",
            "Requirement already satisfied: jax in /home/dima/.conda/envs/bmr/lib/python3.11/site-packages (from jaxpruner==0.1) (0.6.2)\n",
            "Requirement already satisfied: jaxlib in /home/dima/.conda/envs/bmr/lib/python3.11/site-packages (from jaxpruner==0.1) (0.6.2)\n",
            "Requirement already satisfied: optax in /home/dima/.conda/envs/bmr/lib/python3.11/site-packages (from jaxpruner==0.1) (0.2.5)\n",
            "Requirement already satisfied: numpy in /home/dima/.conda/envs/bmr/lib/python3.11/site-packages (from jaxpruner==0.1) (2.1.3)\n",
            "Requirement already satisfied: ml-collections in /home/dima/.conda/envs/bmr/lib/python3.11/site-packages (from jaxpruner==0.1) (1.1.0)\n",
            "Requirement already satisfied: absl-py>=0.9.0 in /home/dima/.conda/envs/bmr/lib/python3.11/site-packages (from chex->jaxpruner==0.1) (2.3.0)\n",
            "Requirement already satisfied: typing_extensions>=4.2.0 in /home/dima/.conda/envs/bmr/lib/python3.11/site-packages (from chex->jaxpruner==0.1) (4.14.0)\n",
            "Requirement already satisfied: toolz>=0.9.0 in /home/dima/.conda/envs/bmr/lib/python3.11/site-packages (from chex->jaxpruner==0.1) (1.0.0)\n",
            "Requirement already satisfied: ml_dtypes>=0.5.0 in /home/dima/.conda/envs/bmr/lib/python3.11/site-packages (from jax->jaxpruner==0.1) (0.5.1)\n",
            "Requirement already satisfied: opt_einsum in /home/dima/.conda/envs/bmr/lib/python3.11/site-packages (from jax->jaxpruner==0.1) (3.4.0)\n",
            "Requirement already satisfied: scipy>=1.12 in /home/dima/.conda/envs/bmr/lib/python3.11/site-packages (from jax->jaxpruner==0.1) (1.16.0)\n",
            "Requirement already satisfied: msgpack in /home/dima/.conda/envs/bmr/lib/python3.11/site-packages (from flax->jaxpruner==0.1) (1.1.1)\n",
            "Requirement already satisfied: orbax-checkpoint in /home/dima/.conda/envs/bmr/lib/python3.11/site-packages (from flax->jaxpruner==0.1) (0.11.16)\n",
            "Requirement already satisfied: tensorstore in /home/dima/.conda/envs/bmr/lib/python3.11/site-packages (from flax->jaxpruner==0.1) (0.1.75)\n",
            "Requirement already satisfied: rich>=11.1 in /home/dima/.conda/envs/bmr/lib/python3.11/site-packages (from flax->jaxpruner==0.1) (14.0.0)\n",
            "Requirement already satisfied: PyYAML>=5.4.1 in /home/dima/.conda/envs/bmr/lib/python3.11/site-packages (from flax->jaxpruner==0.1) (6.0.2)\n",
            "Requirement already satisfied: treescope>=0.1.7 in /home/dima/.conda/envs/bmr/lib/python3.11/site-packages (from flax->jaxpruner==0.1) (0.1.9)\n",
            "Requirement already satisfied: markdown-it-py>=2.2.0 in /home/dima/.conda/envs/bmr/lib/python3.11/site-packages (from rich>=11.1->flax->jaxpruner==0.1) (3.0.0)\n",
            "Requirement already satisfied: pygments<3.0.0,>=2.13.0 in /home/dima/.conda/envs/bmr/lib/python3.11/site-packages (from rich>=11.1->flax->jaxpruner==0.1) (2.19.2)\n",
            "Requirement already satisfied: mdurl~=0.1 in /home/dima/.conda/envs/bmr/lib/python3.11/site-packages (from markdown-it-py>=2.2.0->rich>=11.1->flax->jaxpruner==0.1) (0.1.2)\n",
            "Requirement already satisfied: etils[epath,epy] in /home/dima/.conda/envs/bmr/lib/python3.11/site-packages (from orbax-checkpoint->flax->jaxpruner==0.1) (1.12.2)\n",
            "Requirement already satisfied: nest_asyncio in /home/dima/.conda/envs/bmr/lib/python3.11/site-packages (from orbax-checkpoint->flax->jaxpruner==0.1) (1.6.0)\n",
            "Requirement already satisfied: protobuf in /home/dima/.conda/envs/bmr/lib/python3.11/site-packages (from orbax-checkpoint->flax->jaxpruner==0.1) (5.29.5)\n",
            "Requirement already satisfied: humanize in /home/dima/.conda/envs/bmr/lib/python3.11/site-packages (from orbax-checkpoint->flax->jaxpruner==0.1) (4.12.3)\n",
            "Requirement already satisfied: simplejson>=3.16.0 in /home/dima/.conda/envs/bmr/lib/python3.11/site-packages (from orbax-checkpoint->flax->jaxpruner==0.1) (3.20.1)\n",
            "Requirement already satisfied: fsspec in /home/dima/.conda/envs/bmr/lib/python3.11/site-packages (from etils[epath,epy]->orbax-checkpoint->flax->jaxpruner==0.1) (2025.5.1)\n",
            "Requirement already satisfied: importlib_resources in /home/dima/.conda/envs/bmr/lib/python3.11/site-packages (from etils[epath,epy]->orbax-checkpoint->flax->jaxpruner==0.1) (6.5.2)\n",
            "Requirement already satisfied: zipp in /home/dima/.conda/envs/bmr/lib/python3.11/site-packages (from etils[epath,epy]->orbax-checkpoint->flax->jaxpruner==0.1) (3.23.0)\n",
            "Building wheels for collected packages: jaxpruner\n",
            "\u001b[33m  DEPRECATION: Building 'jaxpruner' using the legacy setup.py bdist_wheel mechanism, which will be removed in a future version. pip 25.3 will enforce this behaviour change. A possible replacement is to use the standardized build interface by setting the `--use-pep517` option, (possibly combined with `--no-build-isolation`), or adding a `pyproject.toml` file to the source tree of 'jaxpruner'. Discussion can be found at https://github.com/pypa/pip/issues/6334\u001b[0m\u001b[33m\n",
            "\u001b[0m  Building wheel for jaxpruner (setup.py) ... \u001b[?25ldone\n",
            "\u001b[?25h  Created wheel for jaxpruner: filename=jaxpruner-0.1-py3-none-any.whl size=48950 sha256=f37da610bead04878146834ad9f73b459934a2c3ebaf44341124ca5baa40616c\n",
            "  Stored in directory: /tmp/pip-ephem-wheel-cache-eqzv_m6z/wheels/73/38/61/3fd339654a367655a3f1fb74d35b66c4d0539861ced7802c47\n",
            "Successfully built jaxpruner\n",
            "Installing collected packages: jaxpruner\n",
            "Successfully installed jaxpruner-0.1\n"
          ]
        }
      ],
      "source": [
        "!pip3 install git+https://github.com/google-research/jaxpruner\n",
        "import jaxpruner\n",
        "import ml_collections"
      ]
    },
    {
      "cell_type": "markdown",
      "metadata": {
        "id": "gGi7zcRpp4ZL"
      },
      "source": [
        "## Dataset"
      ]
    },
    {
      "cell_type": "code",
      "execution_count": 4,
      "metadata": {
        "id": "J7zXhAmXhfHt"
      },
      "outputs": [],
      "source": [
        "def get_datasets():\n",
        "  \"\"\"Load MNIST train and test datasets into memory.\"\"\"\n",
        "  ds_builder = tfds.builder('mnist')\n",
        "  ds_builder.download_and_prepare()\n",
        "  train_ds = tfds.as_numpy(ds_builder.as_dataset(split='train', batch_size=-1))\n",
        "  test_ds = tfds.as_numpy(ds_builder.as_dataset(split='test', batch_size=-1))\n",
        "  train_ds['image'] = jnp.float32(train_ds['image']) / 255.\n",
        "  test_ds['image'] = jnp.float32(test_ds['image']) / 255.\n",
        "  return train_ds, test_ds\n",
        "\n",
        "# Helper functions for images.\n",
        "\n",
        "def show_img(img, ax=None, title=None):\n",
        "  \"\"\"Shows a single image.\"\"\"\n",
        "  if ax is None:\n",
        "    ax = plt.gca()\n",
        "  ax.imshow(img[..., 0], cmap='gray')\n",
        "  ax.set_xticks([])\n",
        "  ax.set_yticks([])\n",
        "  if title:\n",
        "    ax.set_title(title)\n",
        "\n",
        "def show_img_grid(imgs, titles):\n",
        "  \"\"\"Shows a grid of images.\"\"\"\n",
        "  n = int(np.ceil(len(imgs)**.5))\n",
        "  _, axs = plt.subplots(n, n, figsize=(3 * n, 3 * n))\n",
        "  for i, (img, title) in enumerate(zip(imgs, titles)):\n",
        "    show_img(img, axs[i // n][i % n], title)"
      ]
    },
    {
      "cell_type": "code",
      "execution_count": 5,
      "metadata": {
        "id": "BRg0rNsJp4ZL",
        "tags": []
      },
      "outputs": [
        {
          "name": "stderr",
          "output_type": "stream",
          "text": [
            "INFO:absl:Load dataset info from /home/dima/tensorflow_datasets/mnist/3.0.1\n",
            "INFO:absl:Reusing dataset mnist (/home/dima/tensorflow_datasets/mnist/3.0.1)\n",
            "INFO:absl:Creating a tf.data.Dataset reading 1 files located in folders: /home/dima/tensorflow_datasets/mnist/3.0.1.\n",
            "INFO:absl:Constructing tf.data.Dataset mnist for split train, from /home/dima/tensorflow_datasets/mnist/3.0.1\n",
            "INFO:absl:Creating a tf.data.Dataset reading 1 files located in folders: /home/dima/tensorflow_datasets/mnist/3.0.1.\n",
            "INFO:absl:Constructing tf.data.Dataset mnist for split test, from /home/dima/tensorflow_datasets/mnist/3.0.1\n"
          ]
        }
      ],
      "source": [
        "# Get datasets as dict of JAX arrays.\n",
        "train_ds, test_ds = get_datasets()"
      ]
    },
    {
      "cell_type": "code",
      "execution_count": 6,
      "metadata": {
        "id": "B0LgjT3Vp4ZP"
      },
      "outputs": [
        {
          "data": {
            "image/png": "[encoded data removed]",
            "text/plain": [
              "<Figure size 1500x1500 with 25 Axes>"
            ]
          },
          "metadata": {},
          "output_type": "display_data"
        }
      ],
      "source": [
        "show_img_grid(\n",
        "    [train_ds['image'][idx] for idx in range(25)],\n",
        "    [f'label={train_ds[\"label\"][idx]}' for idx in range(25)],\n",
        ")"
      ]
    },
    {
      "cell_type": "markdown",
      "metadata": {
        "id": "KqW8WP5bp4ZS"
      },
      "source": [
        "## Training"
      ]
    },
    {
      "cell_type": "code",
      "execution_count": 7,
      "metadata": {
        "id": "KmG9pXPWh7sh"
      },
      "outputs": [],
      "source": [
        "import ml_collections\n",
        "\n",
        "class CNN(nn.Module):\n",
        "  \"\"\"A simple CNN model.\"\"\"\n",
        "\n",
        "  @nn.compact\n",
        "  def __call__(self, x):\n",
        "    x = nn.Conv(features=32, kernel_size=(3, 3))(x)\n",
        "    x = nn.relu(x)\n",
        "    x = nn.avg_pool(x, window_shape=(2, 2), strides=(2, 2))\n",
        "    x = nn.Conv(features=64, kernel_size=(3, 3))(x)\n",
        "    x = nn.relu(x)\n",
        "    x = nn.avg_pool(x, window_shape=(2, 2), strides=(2, 2))\n",
        "    x = x.reshape((x.shape[0], -1))  # flatten\n",
        "    x = nn.Dense(features=256)(x)\n",
        "    x = nn.relu(x)\n",
        "    x = nn.Dense(features=10)(x)\n",
        "    return x\n",
        "\n",
        "\n",
        "@jax.jit\n",
        "def apply_model(state, images, labels):\n",
        "  \"\"\"Computes gradients, loss and accuracy for a single batch.\"\"\"\n",
        "  def loss_fn(params):\n",
        "    logits = state.apply_fn({'params': params}, images)\n",
        "    one_hot = jax.nn.one_hot(labels, 10)\n",
        "    loss = jnp.mean(optax.softmax_cross_entropy(logits=logits, labels=one_hot))\n",
        "    return loss, logits\n",
        "\n",
        "  grad_fn = jax.value_and_grad(loss_fn, has_aux=True)\n",
        "  (loss, logits), grads = grad_fn(state.params)\n",
        "  accuracy = jnp.mean(jnp.argmax(logits, -1) == labels)\n",
        "  return grads, loss, accuracy\n",
        "\n",
        "\n",
        "@jax.jit\n",
        "def update_model(state, grads):\n",
        "  updates, new_opt_state = state.tx.update(\n",
        "      grads, state.opt_state, state.params)\n",
        "  new_params = optax.apply_updates(state.params, updates)\n",
        "  return state.replace(\n",
        "      step=state.step + 1,\n",
        "      params=new_params,\n",
        "      opt_state=new_opt_state)\n",
        "\n",
        "\n",
        "def train_epoch(state, train_ds, batch_size, rng, sparsity_updater):\n",
        "  \"\"\"Train for a single epoch.\"\"\"\n",
        "  train_ds_size = len(train_ds['image'])\n",
        "  steps_per_epoch = train_ds_size // batch_size\n",
        "\n",
        "  perms = jax.random.permutation(rng, len(train_ds['image']))\n",
        "  perms = perms[:steps_per_epoch * batch_size]  # skip incomplete batch\n",
        "  perms = perms.reshape((steps_per_epoch, batch_size))\n",
        "\n",
        "  epoch_loss = []\n",
        "  epoch_accuracy = []\n",
        "  is_ste = isinstance(sparsity_updater, (jaxpruner.SteMagnitudePruning,\n",
        "                                         jaxpruner.SteRandomPruning))\n",
        "  pre_op = jax.jit(sparsity_updater.pre_forward_update)\n",
        "  post_op = jax.jit(sparsity_updater.post_gradient_update)\n",
        "  for i, perm in enumerate(perms):\n",
        "    batch_images = train_ds['image'][perm, ...]\n",
        "    batch_labels = train_ds['label'][perm, ...]\n",
        "    # Following is only needed for STE.\n",
        "    new_params = pre_op(state.params, state.opt_state)\n",
        "    forward_state = state.replace(params=new_params)\n",
        "\n",
        "    grads, loss, accuracy = apply_model(forward_state, batch_images,\n",
        "                                        batch_labels)\n",
        "    state = update_model(state, grads)\n",
        "    post_params = post_op(state.params, state.opt_state)\n",
        "    state = state.replace(params=post_params)\n",
        "    epoch_loss.append(loss)\n",
        "    epoch_accuracy.append(accuracy)\n",
        "    if i % 100 == 0:\n",
        "      if is_ste:\n",
        "        print(jaxpruner.summarize_sparsity(\n",
        "            new_params, only_total_sparsity=True))\n",
        "      else:\n",
        "        print(jaxpruner.summarize_sparsity(\n",
        "            state.params, only_total_sparsity=True))\n",
        "  train_loss = np.mean(epoch_loss)\n",
        "  train_accuracy = np.mean(epoch_accuracy)\n",
        "  return state, train_loss, train_accuracy\n",
        "\n",
        "\n",
        "def create_train_state(rng, config):\n",
        "  \"\"\"Creates initial `TrainState`.\"\"\"\n",
        "  cnn = CNN()\n",
        "  params = cnn.init(rng, jnp.ones([1, 28, 28, 1]))['params']\n",
        "  sparsity_updater = jaxpruner.create_updater_from_config(config.sparsity_config)\n",
        "  tx = optax.sgd(config.learning_rate, config.momentum)\n",
        "  tx = sparsity_updater.wrap_optax(tx)\n",
        "\n",
        "  return train_state.TrainState.create(\n",
        "      apply_fn=cnn.apply, params=params, tx=tx), sparsity_updater\n",
        "\n",
        "\n",
        "import time\n",
        "\n",
        "def train_and_evaluate(config: ml_collections.ConfigDict\n",
        "                       ) -> train_state.TrainState:\n",
        "  \"\"\"Execute model training and evaluation loop.\n",
        "\n",
        "  Args:\n",
        "    config: Hyperparameter configuration for training and evaluation.\n",
        "    workdir: Directory where the tensorboard summaries are written to.\n",
        "\n",
        "  Returns:\n",
        "    The train state (which includes the `.params`).\n",
        "  \"\"\"\n",
        "  train_ds, test_ds = get_datasets()\n",
        "  rng = jax.random.PRNGKey(0)\n",
        "\n",
        "  rng, init_rng = jax.random.split(rng)\n",
        "\n",
        "  state, sparsity_updater = create_train_state(init_rng, config)\n",
        "\n",
        "  for epoch in range(1, config.num_epochs + 1):\n",
        "    s_time = time.time()\n",
        "    rng, input_rng = jax.random.split(rng)\n",
        "    state, train_loss, train_accuracy = train_epoch(state, train_ds,\n",
        "                                                    config.batch_size,\n",
        "                                                    input_rng,\n",
        "                                                    sparsity_updater)\n",
        "    # Following is only needed for STE.\n",
        "    new_params = sparsity_updater.pre_forward_update(\n",
        "        state.params, state.opt_state)\n",
        "    forward_state = state.replace(params=new_params)\n",
        "\n",
        "    _, test_loss, test_accuracy = apply_model(forward_state, test_ds['image'],\n",
        "                                              test_ds['label'])\n",
        "\n",
        "    print(\n",
        "        'epoch:% 3d, train_loss: %.4f, train_accuracy: %.2f, test_loss: %.4f, test_accuracy: %.2f, time: %.2f'\n",
        "        % (epoch, train_loss, train_accuracy * 100, test_loss,\n",
        "           test_accuracy * 100, time.time() - s_time))\n",
        "\n",
        "  return forward_state"
      ]
    },
    {
      "cell_type": "markdown",
      "metadata": {
        "id": "R5za4NrVw40K"
      },
      "source": [
        "# Jaxpruner API"
      ]
    },
    {
      "cell_type": "code",
      "execution_count": 8,
      "metadata": {
        "id": "Be-Bn7R6tsz7"
      },
      "outputs": [
        {
          "data": {
            "text/plain": [
              "('no_prune',\n",
              " 'magnitude',\n",
              " 'random',\n",
              " 'saliency',\n",
              " 'magnitude_ste',\n",
              " 'random_ste',\n",
              " 'global_magnitude',\n",
              " 'global_saliency',\n",
              " 'static_sparse',\n",
              " 'rigl',\n",
              " 'set')"
            ]
          },
          "execution_count": 8,
          "metadata": {},
          "output_type": "execute_result"
        }
      ],
      "source": [
        "jaxpruner.all_algorithm_names()"
      ]
    },
    {
      "cell_type": "code",
      "execution_count": 9,
      "metadata": {
        "id": "XMVhTvc0tsM1"
      },
      "outputs": [],
      "source": [
        "config = ml_collections.ConfigDict()\n",
        "\n",
        "config.learning_rate = 0.1\n",
        "config.momentum = 0.9\n",
        "config.batch_size = 128\n",
        "config.num_epochs = 3 # 1 epoch is 468 steps for bs=128\n",
        "\n",
        "config.sparsity_config = ml_collections.ConfigDict()\n",
        "config.sparsity_config.algorithm = 'magnitude'\n",
        "config.sparsity_config.update_freq = 10\n",
        "config.sparsity_config.update_end_step = 1000\n",
        "config.sparsity_config.update_start_step = 200\n",
        "config.sparsity_config.sparsity = 0.95\n",
        "config.sparsity_config.dist_type = 'erk'"
      ]
    },
    {
      "cell_type": "code",
      "execution_count": 10,
      "metadata": {
        "id": "NihrDoDm2yAz"
      },
      "outputs": [
        {
          "data": {
            "text/plain": [
              "MagnitudePruning(scheduler=PolynomialSchedule(update_freq=10, update_start_step=200, update_end_step=1000, power=3), skip_gradients=False, is_sparse_gradients=False, sparsity_type=Unstructured(), sparsity_distribution_fn=functools.partial(<function erk at 0x7f010a362fc0>, sparsity=0.95), rng_seed=Array([0, 8], dtype=uint32), use_packed_masks=False, topk_fn=<function topk_mask_calculator at 0x7f010a362c00>)"
            ]
          },
          "execution_count": 10,
          "metadata": {},
          "output_type": "execute_result"
        }
      ],
      "source": [
        "jaxpruner.create_updater_from_config(config.sparsity_config)"
      ]
    },
    {
      "cell_type": "code",
      "execution_count": 11,
      "metadata": {
        "id": "RHoBUKSkp4ZS",
        "tags": []
      },
      "outputs": [
        {
          "name": "stderr",
          "output_type": "stream",
          "text": [
            "INFO:absl:Load dataset info from /home/dima/tensorflow_datasets/mnist/3.0.1\n",
            "INFO:absl:Reusing dataset mnist (/home/dima/tensorflow_datasets/mnist/3.0.1)\n",
            "INFO:absl:Creating a tf.data.Dataset reading 1 files located in folders: /home/dima/tensorflow_datasets/mnist/3.0.1.\n",
            "INFO:absl:Constructing tf.data.Dataset mnist for split train, from /home/dima/tensorflow_datasets/mnist/3.0.1\n",
            "INFO:absl:Creating a tf.data.Dataset reading 1 files located in folders: /home/dima/tensorflow_datasets/mnist/3.0.1.\n",
            "INFO:absl:Constructing tf.data.Dataset mnist for split test, from /home/dima/tensorflow_datasets/mnist/3.0.1\n"
          ]
        },
        {
          "name": "stdout",
          "output_type": "stream",
          "text": [
            "{'_total_sparsity': Array(2.0623207e-05, dtype=float32), '_nparams_nnz': Array(824441., dtype=float32), '_nparams': Array(824458., dtype=float32)}\n",
            "{'_total_sparsity': Array(0., dtype=float32), '_nparams_nnz': Array(824458., dtype=float32), '_nparams': Array(824458., dtype=float32)}\n",
            "{'_total_sparsity': Array(0.00355631, dtype=float32), '_nparams_nnz': Array(821526., dtype=float32), '_nparams': Array(824458., dtype=float32)}\n",
            "{'_total_sparsity': Array(0.316158, dtype=float32), '_nparams_nnz': Array(563799., dtype=float32), '_nparams': Array(824458., dtype=float32)}\n",
            "{'_total_sparsity': Array(0.5509765, dtype=float32), '_nparams_nnz': Array(370201., dtype=float32), '_nparams': Array(824458., dtype=float32)}\n"
          ]
        },
        {
          "name": "stderr",
          "output_type": "stream",
          "text": [
            "2025-07-21 22:44:41.058036: E external/xla/xla/service/slow_operation_alarm.cc:73] Trying algorithm eng57{k2=0,k13=2,k14=2,k18=1,k23=0} for conv %cudnn-conv-bw-filter.2 = (f32[32,1,3,3]{3,2,1,0}, u8[0]{0}) custom-call(%bitcast.99, %select.3), window={size=3x3 pad=1_1x1_1}, dim_labels=bf01_oi01->bf01, custom_call_target=\"__cudnn$convBackwardFilter\", metadata={op_name=\"jit(apply_model)/jit(main)/transpose(jvp(CNN))/Conv_0/conv_general_dilated\" source_file=\"/tmp/ipykernel_310629/3953316287.py\" source_line=8}, backend_config={\"operation_queue_id\":\"0\",\"wait_on_operation_queues\":[],\"cudnn_conv_backend_config\":{\"conv_result_scale\":1,\"activation_mode\":\"kNone\",\"side_input_scale\":0,\"leakyrelu_alpha\":0},\"force_earliest_schedule\":false,\"reification_cost\":[]} is taking a while...\n",
            "2025-07-21 22:44:41.149177: E external/xla/xla/service/slow_operation_alarm.cc:140] The operation took 1.09122487s\n",
            "Trying algorithm eng57{k2=0,k13=2,k14=2,k18=1,k23=0} for conv %cudnn-conv-bw-filter.2 = (f32[32,1,3,3]{3,2,1,0}, u8[0]{0}) custom-call(%bitcast.99, %select.3), window={size=3x3 pad=1_1x1_1}, dim_labels=bf01_oi01->bf01, custom_call_target=\"__cudnn$convBackwardFilter\", metadata={op_name=\"jit(apply_model)/jit(main)/transpose(jvp(CNN))/Conv_0/conv_general_dilated\" source_file=\"/tmp/ipykernel_310629/3953316287.py\" source_line=8}, backend_config={\"operation_queue_id\":\"0\",\"wait_on_operation_queues\":[],\"cudnn_conv_backend_config\":{\"conv_result_scale\":1,\"activation_mode\":\"kNone\",\"side_input_scale\":0,\"leakyrelu_alpha\":0},\"force_earliest_schedule\":false,\"reification_cost\":[]} is taking a while...\n"
          ]
        },
        {
          "name": "stdout",
          "output_type": "stream",
          "text": [
            "epoch:  1, train_loss: 0.2275, train_accuracy: 93.40, test_loss: 0.0475, test_accuracy: 98.35, time: 16.21\n",
            "{'_total_sparsity': Array(0.6591591, dtype=float32), '_nparams_nnz': Array(281009., dtype=float32), '_nparams': Array(824458., dtype=float32)}\n",
            "{'_total_sparsity': Array(0.79266864, dtype=float32), '_nparams_nnz': Array(170936., dtype=float32), '_nparams': Array(824458., dtype=float32)}\n",
            "{'_total_sparsity': Array(0.8773279, dtype=float32), '_nparams_nnz': Array(101138., dtype=float32), '_nparams': Array(824458., dtype=float32)}\n",
            "{'_total_sparsity': Array(0.92426175, dtype=float32), '_nparams_nnz': Array(62443., dtype=float32), '_nparams': Array(824458., dtype=float32)}\n",
            "{'_total_sparsity': Array(0.9446, dtype=float32), '_nparams_nnz': Array(45675., dtype=float32), '_nparams': Array(824458., dtype=float32)}\n",
            "epoch:  2, train_loss: 0.0540, train_accuracy: 98.37, test_loss: 0.0385, test_accuracy: 98.71, time: 1.16\n",
            "{'_total_sparsity': Array(0.9489725, dtype=float32), '_nparams_nnz': Array(42070., dtype=float32), '_nparams': Array(824458., dtype=float32)}\n",
            "{'_total_sparsity': Array(0.94958144, dtype=float32), '_nparams_nnz': Array(41568., dtype=float32), '_nparams': Array(824458., dtype=float32)}\n",
            "{'_total_sparsity': Array(0.94958144, dtype=float32), '_nparams_nnz': Array(41568., dtype=float32), '_nparams': Array(824458., dtype=float32)}\n",
            "{'_total_sparsity': Array(0.94958144, dtype=float32), '_nparams_nnz': Array(41568., dtype=float32), '_nparams': Array(824458., dtype=float32)}\n",
            "{'_total_sparsity': Array(0.94958144, dtype=float32), '_nparams_nnz': Array(41568., dtype=float32), '_nparams': Array(824458., dtype=float32)}\n",
            "epoch:  3, train_loss: 0.0365, train_accuracy: 98.88, test_loss: 0.0312, test_accuracy: 98.99, time: 1.14\n"
          ]
        }
      ],
      "source": [
        "# 3 epochs trains in 10 seconds in the GPU Colab...\n",
        "\n",
        "state = train_and_evaluate(config)"
      ]
    },
    {
      "cell_type": "markdown",
      "metadata": {
        "id": "droLOMfCliZ8"
      },
      "source": [
        "# One Shot pruning"
      ]
    },
    {
      "cell_type": "code",
      "execution_count": 12,
      "metadata": {
        "id": "_prX9QDHmPa1"
      },
      "outputs": [
        {
          "name": "stderr",
          "output_type": "stream",
          "text": [
            "INFO:absl:Load dataset info from /home/dima/tensorflow_datasets/mnist/3.0.1\n",
            "INFO:absl:Reusing dataset mnist (/home/dima/tensorflow_datasets/mnist/3.0.1)\n",
            "INFO:absl:Creating a tf.data.Dataset reading 1 files located in folders: /home/dima/tensorflow_datasets/mnist/3.0.1.\n",
            "INFO:absl:Constructing tf.data.Dataset mnist for split train, from /home/dima/tensorflow_datasets/mnist/3.0.1\n",
            "INFO:absl:Creating a tf.data.Dataset reading 1 files located in folders: /home/dima/tensorflow_datasets/mnist/3.0.1.\n",
            "INFO:absl:Constructing tf.data.Dataset mnist for split test, from /home/dima/tensorflow_datasets/mnist/3.0.1\n"
          ]
        },
        {
          "name": "stdout",
          "output_type": "stream",
          "text": [
            "{'_total_sparsity': Array(0.9500205, dtype=float32), '_nparams_nnz': Array(41206., dtype=float32), '_nparams': Array(824458., dtype=float32)}\n",
            "{'_total_sparsity': Array(0.94958264, dtype=float32), '_nparams_nnz': Array(41567., dtype=float32), '_nparams': Array(824458., dtype=float32)}\n",
            "{'_total_sparsity': Array(0.94958264, dtype=float32), '_nparams_nnz': Array(41567., dtype=float32), '_nparams': Array(824458., dtype=float32)}\n",
            "{'_total_sparsity': Array(0.94958264, dtype=float32), '_nparams_nnz': Array(41567., dtype=float32), '_nparams': Array(824458., dtype=float32)}\n",
            "{'_total_sparsity': Array(0.94958264, dtype=float32), '_nparams_nnz': Array(41567., dtype=float32), '_nparams': Array(824458., dtype=float32)}\n",
            "epoch:  1, train_loss: 0.3879, train_accuracy: 88.22, test_loss: 0.1368, test_accuracy: 95.81, time: 5.01\n",
            "{'_total_sparsity': Array(0.94958144, dtype=float32), '_nparams_nnz': Array(41568., dtype=float32), '_nparams': Array(824458., dtype=float32)}\n",
            "{'_total_sparsity': Array(0.94958144, dtype=float32), '_nparams_nnz': Array(41568., dtype=float32), '_nparams': Array(824458., dtype=float32)}\n",
            "{'_total_sparsity': Array(0.94958144, dtype=float32), '_nparams_nnz': Array(41568., dtype=float32), '_nparams': Array(824458., dtype=float32)}\n",
            "{'_total_sparsity': Array(0.94958144, dtype=float32), '_nparams_nnz': Array(41568., dtype=float32), '_nparams': Array(824458., dtype=float32)}\n",
            "{'_total_sparsity': Array(0.94958144, dtype=float32), '_nparams_nnz': Array(41568., dtype=float32), '_nparams': Array(824458., dtype=float32)}\n",
            "epoch:  2, train_loss: 0.1215, train_accuracy: 96.24, test_loss: 0.0868, test_accuracy: 97.25, time: 1.18\n",
            "{'_total_sparsity': Array(0.94958144, dtype=float32), '_nparams_nnz': Array(41568., dtype=float32), '_nparams': Array(824458., dtype=float32)}\n",
            "{'_total_sparsity': Array(0.94958144, dtype=float32), '_nparams_nnz': Array(41568., dtype=float32), '_nparams': Array(824458., dtype=float32)}\n",
            "{'_total_sparsity': Array(0.94958144, dtype=float32), '_nparams_nnz': Array(41568., dtype=float32), '_nparams': Array(824458., dtype=float32)}\n",
            "{'_total_sparsity': Array(0.94958144, dtype=float32), '_nparams_nnz': Array(41568., dtype=float32), '_nparams': Array(824458., dtype=float32)}\n",
            "{'_total_sparsity': Array(0.94958144, dtype=float32), '_nparams_nnz': Array(41568., dtype=float32), '_nparams': Array(824458., dtype=float32)}\n",
            "epoch:  3, train_loss: 0.0875, train_accuracy: 97.27, test_loss: 0.0793, test_accuracy: 97.34, time: 1.13\n"
          ]
        }
      ],
      "source": [
        "config.sparsity_config.update_start_step = 0\n",
        "config.sparsity_config.update_end_step = 0\n",
        "config.sparsity_config.skip_gradients=True\n",
        "state = train_and_evaluate(config)"
      ]
    },
    {
      "cell_type": "markdown",
      "metadata": {
        "id": "-mMq2qIuKk-U"
      },
      "source": [
        "# STE"
      ]
    },
    {
      "cell_type": "code",
      "execution_count": 13,
      "metadata": {
        "id": "hR114yDYLW8I"
      },
      "outputs": [
        {
          "name": "stderr",
          "output_type": "stream",
          "text": [
            "INFO:absl:Load dataset info from /home/dima/tensorflow_datasets/mnist/3.0.1\n",
            "INFO:absl:Reusing dataset mnist (/home/dima/tensorflow_datasets/mnist/3.0.1)\n",
            "INFO:absl:Creating a tf.data.Dataset reading 1 files located in folders: /home/dima/tensorflow_datasets/mnist/3.0.1.\n",
            "INFO:absl:Constructing tf.data.Dataset mnist for split train, from /home/dima/tensorflow_datasets/mnist/3.0.1\n",
            "INFO:absl:Creating a tf.data.Dataset reading 1 files located in folders: /home/dima/tensorflow_datasets/mnist/3.0.1.\n",
            "INFO:absl:Constructing tf.data.Dataset mnist for split test, from /home/dima/tensorflow_datasets/mnist/3.0.1\n"
          ]
        },
        {
          "name": "stdout",
          "output_type": "stream",
          "text": [
            "{'_total_sparsity': Array(0.9500205, dtype=float32), '_nparams_nnz': Array(41206., dtype=float32), '_nparams': Array(824458., dtype=float32)}\n",
            "{'_total_sparsity': Array(0.94958144, dtype=float32), '_nparams_nnz': Array(41568., dtype=float32), '_nparams': Array(824458., dtype=float32)}\n",
            "{'_total_sparsity': Array(0.94958144, dtype=float32), '_nparams_nnz': Array(41568., dtype=float32), '_nparams': Array(824458., dtype=float32)}\n",
            "{'_total_sparsity': Array(0.94958144, dtype=float32), '_nparams_nnz': Array(41568., dtype=float32), '_nparams': Array(824458., dtype=float32)}\n",
            "{'_total_sparsity': Array(0.94958144, dtype=float32), '_nparams_nnz': Array(41568., dtype=float32), '_nparams': Array(824458., dtype=float32)}\n",
            "epoch:  1, train_loss: 0.3378, train_accuracy: 89.77, test_loss: 0.0959, test_accuracy: 96.70, time: 7.76\n",
            "{'_total_sparsity': Array(0.94958144, dtype=float32), '_nparams_nnz': Array(41568., dtype=float32), '_nparams': Array(824458., dtype=float32)}\n",
            "{'_total_sparsity': Array(0.94958144, dtype=float32), '_nparams_nnz': Array(41568., dtype=float32), '_nparams': Array(824458., dtype=float32)}\n",
            "{'_total_sparsity': Array(0.94958144, dtype=float32), '_nparams_nnz': Array(41568., dtype=float32), '_nparams': Array(824458., dtype=float32)}\n",
            "{'_total_sparsity': Array(0.94958144, dtype=float32), '_nparams_nnz': Array(41568., dtype=float32), '_nparams': Array(824458., dtype=float32)}\n",
            "{'_total_sparsity': Array(0.94958144, dtype=float32), '_nparams_nnz': Array(41568., dtype=float32), '_nparams': Array(824458., dtype=float32)}\n",
            "epoch:  2, train_loss: 0.0688, train_accuracy: 97.86, test_loss: 0.0541, test_accuracy: 98.26, time: 5.01\n",
            "{'_total_sparsity': Array(0.94958144, dtype=float32), '_nparams_nnz': Array(41568., dtype=float32), '_nparams': Array(824458., dtype=float32)}\n",
            "{'_total_sparsity': Array(0.94958144, dtype=float32), '_nparams_nnz': Array(41568., dtype=float32), '_nparams': Array(824458., dtype=float32)}\n",
            "{'_total_sparsity': Array(0.94958144, dtype=float32), '_nparams_nnz': Array(41568., dtype=float32), '_nparams': Array(824458., dtype=float32)}\n",
            "{'_total_sparsity': Array(0.94958144, dtype=float32), '_nparams_nnz': Array(41568., dtype=float32), '_nparams': Array(824458., dtype=float32)}\n",
            "{'_total_sparsity': Array(0.94958144, dtype=float32), '_nparams_nnz': Array(41568., dtype=float32), '_nparams': Array(824458., dtype=float32)}\n",
            "epoch:  3, train_loss: 0.0490, train_accuracy: 98.48, test_loss: 0.0432, test_accuracy: 98.57, time: 4.93\n"
          ]
        }
      ],
      "source": [
        "# STE also supports gradual pruning schedules.\n",
        "# Here we train weights with sparse forward pass from the start.\n",
        "config.sparsity_config.algorithm = 'magnitude_ste'\n",
        "config.sparsity_config.sparsity = 0.95\n",
        "config.sparsity_config.update_end_step = 0\n",
        "config.sparsity_config.update_start_step = 0\n",
        "config.sparsity_config.dist_type = 'erk'\n",
        "state = train_and_evaluate(config)"
      ]
    },
    {
      "cell_type": "markdown",
      "metadata": {
        "id": "Y7rPvHvyMouE"
      },
      "source": [
        "# Global Pruning"
      ]
    },
    {
      "cell_type": "code",
      "execution_count": 14,
      "metadata": {
        "id": "bjTa5fSvMstH"
      },
      "outputs": [
        {
          "name": "stderr",
          "output_type": "stream",
          "text": [
            "INFO:absl:Load dataset info from /home/dima/tensorflow_datasets/mnist/3.0.1\n",
            "INFO:absl:Reusing dataset mnist (/home/dima/tensorflow_datasets/mnist/3.0.1)\n",
            "INFO:absl:Creating a tf.data.Dataset reading 1 files located in folders: /home/dima/tensorflow_datasets/mnist/3.0.1.\n",
            "INFO:absl:Constructing tf.data.Dataset mnist for split train, from /home/dima/tensorflow_datasets/mnist/3.0.1\n",
            "INFO:absl:Creating a tf.data.Dataset reading 1 files located in folders: /home/dima/tensorflow_datasets/mnist/3.0.1.\n",
            "INFO:absl:Constructing tf.data.Dataset mnist for split test, from /home/dima/tensorflow_datasets/mnist/3.0.1\n"
          ]
        },
        {
          "name": "stdout",
          "output_type": "stream",
          "text": [
            "{'_total_sparsity': Array(2.0623207e-05, dtype=float32), '_nparams_nnz': Array(824441., dtype=float32), '_nparams': Array(824458., dtype=float32)}\n",
            "{'_total_sparsity': Array(0., dtype=float32), '_nparams_nnz': Array(824458., dtype=float32), '_nparams': Array(824458., dtype=float32)}\n",
            "{'_total_sparsity': Array(0.00355631, dtype=float32), '_nparams_nnz': Array(821526., dtype=float32), '_nparams': Array(824458., dtype=float32)}\n",
            "{'_total_sparsity': Array(0.31615925, dtype=float32), '_nparams_nnz': Array(563798., dtype=float32), '_nparams': Array(824458., dtype=float32)}\n",
            "{'_total_sparsity': Array(0.5509777, dtype=float32), '_nparams_nnz': Array(370200., dtype=float32), '_nparams': Array(824458., dtype=float32)}\n",
            "epoch:  1, train_loss: 0.2300, train_accuracy: 93.30, test_loss: 0.0487, test_accuracy: 98.40, time: 4.89\n",
            "{'_total_sparsity': Array(0.65916157, dtype=float32), '_nparams_nnz': Array(281007., dtype=float32), '_nparams': Array(824458., dtype=float32)}\n",
            "{'_total_sparsity': Array(0.7926711, dtype=float32), '_nparams_nnz': Array(170934., dtype=float32), '_nparams': Array(824458., dtype=float32)}\n",
            "{'_total_sparsity': Array(0.8773291, dtype=float32), '_nparams_nnz': Array(101137., dtype=float32), '_nparams': Array(824458., dtype=float32)}\n",
            "{'_total_sparsity': Array(0.924263, dtype=float32), '_nparams_nnz': Array(62442., dtype=float32), '_nparams': Array(824458., dtype=float32)}\n",
            "{'_total_sparsity': Array(0.9446024, dtype=float32), '_nparams_nnz': Array(45673., dtype=float32), '_nparams': Array(824458., dtype=float32)}\n",
            "epoch:  2, train_loss: 0.0521, train_accuracy: 98.39, test_loss: 0.0359, test_accuracy: 98.82, time: 1.15\n",
            "{'_total_sparsity': Array(0.9489738, dtype=float32), '_nparams_nnz': Array(42069., dtype=float32), '_nparams': Array(824458., dtype=float32)}\n",
            "{'_total_sparsity': Array(0.94958264, dtype=float32), '_nparams_nnz': Array(41567., dtype=float32), '_nparams': Array(824458., dtype=float32)}\n",
            "{'_total_sparsity': Array(0.94958264, dtype=float32), '_nparams_nnz': Array(41567., dtype=float32), '_nparams': Array(824458., dtype=float32)}\n",
            "{'_total_sparsity': Array(0.94958264, dtype=float32), '_nparams_nnz': Array(41567., dtype=float32), '_nparams': Array(824458., dtype=float32)}\n",
            "{'_total_sparsity': Array(0.94958264, dtype=float32), '_nparams_nnz': Array(41567., dtype=float32), '_nparams': Array(824458., dtype=float32)}\n",
            "epoch:  3, train_loss: 0.0363, train_accuracy: 98.85, test_loss: 0.0277, test_accuracy: 99.14, time: 1.18\n"
          ]
        }
      ],
      "source": [
        "config.sparsity_config.algorithm = 'global_magnitude'\n",
        "config.sparsity_config.update_freq = 10\n",
        "config.sparsity_config.update_end_step = 1000\n",
        "config.sparsity_config.update_start_step = 200\n",
        "config.sparsity_config.sparsity = 0.95\n",
        "config.sparsity_config.dist_type = 'erk'\n",
        "\n",
        "state = train_and_evaluate(config)"
      ]
    },
    {
      "cell_type": "code",
      "execution_count": 15,
      "metadata": {
        "id": "iVkUegpfNTBG"
      },
      "outputs": [
        {
          "data": {
            "text/plain": [
              "{'Conv_0/bias': None,\n",
              " 'Conv_0/kernel': Array(0.05902779, dtype=float32),\n",
              " 'Conv_1/bias': None,\n",
              " 'Conv_1/kernel': Array(0.3928494, dtype=float32),\n",
              " 'Dense_0/bias': None,\n",
              " 'Dense_0/kernel': Array(0.96527475, dtype=float32),\n",
              " 'Dense_1/bias': None,\n",
              " 'Dense_1/kernel': Array(0.27148438, dtype=float32),\n",
              " '_total_sparsity': Array(0.94999975, dtype=float32),\n",
              " '_nparams_nnz': Array(41205., dtype=float32),\n",
              " '_nparams': Array(824096., dtype=float32)}"
            ]
          },
          "execution_count": 15,
          "metadata": {},
          "output_type": "execute_result"
        }
      ],
      "source": [
        "jaxpruner.summarize_sparsity(state.opt_state.masks)"
      ]
    },
    {
      "cell_type": "markdown",
      "metadata": {
        "id": "z35houGrNaZR"
      },
      "source": [
        "# Dynamic Sparse Training"
      ]
    },
    {
      "cell_type": "code",
      "execution_count": 16,
      "metadata": {
        "id": "Yo6DqrXXNc7J"
      },
      "outputs": [
        {
          "name": "stderr",
          "output_type": "stream",
          "text": [
            "INFO:absl:Load dataset info from /home/dima/tensorflow_datasets/mnist/3.0.1\n",
            "INFO:absl:Reusing dataset mnist (/home/dima/tensorflow_datasets/mnist/3.0.1)\n",
            "INFO:absl:Creating a tf.data.Dataset reading 1 files located in folders: /home/dima/tensorflow_datasets/mnist/3.0.1.\n",
            "INFO:absl:Constructing tf.data.Dataset mnist for split train, from /home/dima/tensorflow_datasets/mnist/3.0.1\n",
            "INFO:absl:Creating a tf.data.Dataset reading 1 files located in folders: /home/dima/tensorflow_datasets/mnist/3.0.1.\n",
            "INFO:absl:Constructing tf.data.Dataset mnist for split test, from /home/dima/tensorflow_datasets/mnist/3.0.1\n"
          ]
        },
        {
          "name": "stdout",
          "output_type": "stream",
          "text": [
            "{'_total_sparsity': Array(0.94960207, dtype=float32), '_nparams_nnz': Array(41551., dtype=float32), '_nparams': Array(824458., dtype=float32)}\n",
            "{'_total_sparsity': Array(0.95216006, dtype=float32), '_nparams_nnz': Array(39442., dtype=float32), '_nparams': Array(824458., dtype=float32)}\n",
            "{'_total_sparsity': Array(0.9525822, dtype=float32), '_nparams_nnz': Array(39094., dtype=float32), '_nparams': Array(824458., dtype=float32)}\n",
            "{'_total_sparsity': Array(0.95235294, dtype=float32), '_nparams_nnz': Array(39283., dtype=float32), '_nparams': Array(824458., dtype=float32)}\n",
            "{'_total_sparsity': Array(0.9519308, dtype=float32), '_nparams_nnz': Array(39631., dtype=float32), '_nparams': Array(824458., dtype=float32)}\n",
            "epoch:  1, train_loss: 0.4458, train_accuracy: 85.65, test_loss: 0.1272, test_accuracy: 96.03, time: 7.30\n",
            "{'_total_sparsity': Array(0.9495851, dtype=float32), '_nparams_nnz': Array(41565., dtype=float32), '_nparams': Array(824458., dtype=float32)}\n",
            "{'_total_sparsity': Array(0.94958144, dtype=float32), '_nparams_nnz': Array(41568., dtype=float32), '_nparams': Array(824458., dtype=float32)}\n",
            "{'_total_sparsity': Array(0.94958144, dtype=float32), '_nparams_nnz': Array(41568., dtype=float32), '_nparams': Array(824458., dtype=float32)}\n",
            "{'_total_sparsity': Array(0.94959354, dtype=float32), '_nparams_nnz': Array(41558., dtype=float32), '_nparams': Array(824458., dtype=float32)}\n",
            "{'_total_sparsity': Array(0.94958144, dtype=float32), '_nparams_nnz': Array(41568., dtype=float32), '_nparams': Array(824458., dtype=float32)}\n",
            "epoch:  2, train_loss: 0.1126, train_accuracy: 96.55, test_loss: 0.0834, test_accuracy: 97.38, time: 1.25\n",
            "{'_total_sparsity': Array(0.94958144, dtype=float32), '_nparams_nnz': Array(41568., dtype=float32), '_nparams': Array(824458., dtype=float32)}\n",
            "{'_total_sparsity': Array(0.94958144, dtype=float32), '_nparams_nnz': Array(41568., dtype=float32), '_nparams': Array(824458., dtype=float32)}\n",
            "{'_total_sparsity': Array(0.94958144, dtype=float32), '_nparams_nnz': Array(41568., dtype=float32), '_nparams': Array(824458., dtype=float32)}\n",
            "{'_total_sparsity': Array(0.94958144, dtype=float32), '_nparams_nnz': Array(41568., dtype=float32), '_nparams': Array(824458., dtype=float32)}\n",
            "{'_total_sparsity': Array(0.94958144, dtype=float32), '_nparams_nnz': Array(41568., dtype=float32), '_nparams': Array(824458., dtype=float32)}\n",
            "epoch:  3, train_loss: 0.0795, train_accuracy: 97.51, test_loss: 0.0589, test_accuracy: 98.08, time: 1.21\n"
          ]
        }
      ],
      "source": [
        "config.sparsity_config.algorithm = 'rigl'\n",
        "\n",
        "config.sparsity_config.update_freq = 10\n",
        "config.sparsity_config.update_end_step = 1000\n",
        "config.sparsity_config.update_start_step = 1\n",
        "config.sparsity_config.sparsity = 0.95\n",
        "config.sparsity_config.dist_type = 'erk'\n",
        "\n",
        "state = train_and_evaluate(config)"
      ]
    },
    {
      "cell_type": "code",
      "execution_count": 17,
      "metadata": {
        "id": "opcu8HK5NsNy"
      },
      "outputs": [
        {
          "name": "stderr",
          "output_type": "stream",
          "text": [
            "INFO:absl:Load dataset info from /home/dima/tensorflow_datasets/mnist/3.0.1\n",
            "INFO:absl:Reusing dataset mnist (/home/dima/tensorflow_datasets/mnist/3.0.1)\n",
            "INFO:absl:Creating a tf.data.Dataset reading 1 files located in folders: /home/dima/tensorflow_datasets/mnist/3.0.1.\n",
            "INFO:absl:Constructing tf.data.Dataset mnist for split train, from /home/dima/tensorflow_datasets/mnist/3.0.1\n",
            "INFO:absl:Creating a tf.data.Dataset reading 1 files located in folders: /home/dima/tensorflow_datasets/mnist/3.0.1.\n",
            "INFO:absl:Constructing tf.data.Dataset mnist for split test, from /home/dima/tensorflow_datasets/mnist/3.0.1\n"
          ]
        },
        {
          "name": "stdout",
          "output_type": "stream",
          "text": [
            "{'_total_sparsity': Array(0.94960207, dtype=float32), '_nparams_nnz': Array(41551., dtype=float32), '_nparams': Array(824458., dtype=float32)}\n",
            "{'_total_sparsity': Array(0.95409954, dtype=float32), '_nparams_nnz': Array(37843., dtype=float32), '_nparams': Array(824458., dtype=float32)}\n",
            "{'_total_sparsity': Array(0.9537854, dtype=float32), '_nparams_nnz': Array(38102., dtype=float32), '_nparams': Array(824458., dtype=float32)}\n",
            "{'_total_sparsity': Array(0.9532699, dtype=float32), '_nparams_nnz': Array(38527., dtype=float32), '_nparams': Array(824458., dtype=float32)}\n",
            "{'_total_sparsity': Array(0.9526186, dtype=float32), '_nparams_nnz': Array(39064., dtype=float32), '_nparams': Array(824458., dtype=float32)}\n",
            "epoch:  1, train_loss: 0.4882, train_accuracy: 84.93, test_loss: 0.1544, test_accuracy: 95.17, time: 8.21\n",
            "{'_total_sparsity': Array(0.95026916, dtype=float32), '_nparams_nnz': Array(41001., dtype=float32), '_nparams': Array(824458., dtype=float32)}\n",
            "{'_total_sparsity': Array(0.9501333, dtype=float32), '_nparams_nnz': Array(41113., dtype=float32), '_nparams': Array(824458., dtype=float32)}\n",
            "{'_total_sparsity': Array(0.9499101, dtype=float32), '_nparams_nnz': Array(41297., dtype=float32), '_nparams': Array(824458., dtype=float32)}\n",
            "{'_total_sparsity': Array(0.94975126, dtype=float32), '_nparams_nnz': Array(41428., dtype=float32), '_nparams': Array(824458., dtype=float32)}\n",
            "{'_total_sparsity': Array(0.9496445, dtype=float32), '_nparams_nnz': Array(41516., dtype=float32), '_nparams': Array(824458., dtype=float32)}\n",
            "epoch:  2, train_loss: 0.1328, train_accuracy: 95.85, test_loss: 0.1143, test_accuracy: 96.62, time: 1.29\n",
            "{'_total_sparsity': Array(0.9496057, dtype=float32), '_nparams_nnz': Array(41548., dtype=float32), '_nparams': Array(824458., dtype=float32)}\n",
            "{'_total_sparsity': Array(0.94958264, dtype=float32), '_nparams_nnz': Array(41567., dtype=float32), '_nparams': Array(824458., dtype=float32)}\n",
            "{'_total_sparsity': Array(0.94958144, dtype=float32), '_nparams_nnz': Array(41568., dtype=float32), '_nparams': Array(824458., dtype=float32)}\n",
            "{'_total_sparsity': Array(0.94958144, dtype=float32), '_nparams_nnz': Array(41568., dtype=float32), '_nparams': Array(824458., dtype=float32)}\n",
            "{'_total_sparsity': Array(0.94958144, dtype=float32), '_nparams_nnz': Array(41568., dtype=float32), '_nparams': Array(824458., dtype=float32)}\n",
            "epoch:  3, train_loss: 0.0863, train_accuracy: 97.37, test_loss: 0.0789, test_accuracy: 97.59, time: 1.14\n"
          ]
        }
      ],
      "source": [
        "config.sparsity_config.algorithm = 'set'\n",
        "state = train_and_evaluate(config)"
      ]
    },
    {
      "cell_type": "code",
      "execution_count": 18,
      "metadata": {
        "id": "VNzNbM4GOF0J"
      },
      "outputs": [
        {
          "name": "stderr",
          "output_type": "stream",
          "text": [
            "INFO:absl:Load dataset info from /home/dima/tensorflow_datasets/mnist/3.0.1\n",
            "INFO:absl:Reusing dataset mnist (/home/dima/tensorflow_datasets/mnist/3.0.1)\n",
            "INFO:absl:Creating a tf.data.Dataset reading 1 files located in folders: /home/dima/tensorflow_datasets/mnist/3.0.1.\n",
            "INFO:absl:Constructing tf.data.Dataset mnist for split train, from /home/dima/tensorflow_datasets/mnist/3.0.1\n",
            "INFO:absl:Creating a tf.data.Dataset reading 1 files located in folders: /home/dima/tensorflow_datasets/mnist/3.0.1.\n",
            "INFO:absl:Constructing tf.data.Dataset mnist for split test, from /home/dima/tensorflow_datasets/mnist/3.0.1\n"
          ]
        },
        {
          "name": "stdout",
          "output_type": "stream",
          "text": [
            "{'_total_sparsity': Array(0.94960207, dtype=float32), '_nparams_nnz': Array(41551., dtype=float32), '_nparams': Array(824458., dtype=float32)}\n",
            "{'_total_sparsity': Array(0.94958144, dtype=float32), '_nparams_nnz': Array(41568., dtype=float32), '_nparams': Array(824458., dtype=float32)}\n",
            "{'_total_sparsity': Array(0.94958144, dtype=float32), '_nparams_nnz': Array(41568., dtype=float32), '_nparams': Array(824458., dtype=float32)}\n",
            "{'_total_sparsity': Array(0.94958144, dtype=float32), '_nparams_nnz': Array(41568., dtype=float32), '_nparams': Array(824458., dtype=float32)}\n",
            "{'_total_sparsity': Array(0.94958144, dtype=float32), '_nparams_nnz': Array(41568., dtype=float32), '_nparams': Array(824458., dtype=float32)}\n",
            "epoch:  1, train_loss: 0.4862, train_accuracy: 84.91, test_loss: 0.1684, test_accuracy: 94.84, time: 3.43\n",
            "{'_total_sparsity': Array(0.94958144, dtype=float32), '_nparams_nnz': Array(41568., dtype=float32), '_nparams': Array(824458., dtype=float32)}\n",
            "{'_total_sparsity': Array(0.94958144, dtype=float32), '_nparams_nnz': Array(41568., dtype=float32), '_nparams': Array(824458., dtype=float32)}\n",
            "{'_total_sparsity': Array(0.94958144, dtype=float32), '_nparams_nnz': Array(41568., dtype=float32), '_nparams': Array(824458., dtype=float32)}\n",
            "{'_total_sparsity': Array(0.94958144, dtype=float32), '_nparams_nnz': Array(41568., dtype=float32), '_nparams': Array(824458., dtype=float32)}\n",
            "{'_total_sparsity': Array(0.94958144, dtype=float32), '_nparams_nnz': Array(41568., dtype=float32), '_nparams': Array(824458., dtype=float32)}\n",
            "epoch:  2, train_loss: 0.1482, train_accuracy: 95.47, test_loss: 0.1133, test_accuracy: 96.34, time: 1.18\n",
            "{'_total_sparsity': Array(0.94958144, dtype=float32), '_nparams_nnz': Array(41568., dtype=float32), '_nparams': Array(824458., dtype=float32)}\n",
            "{'_total_sparsity': Array(0.94958144, dtype=float32), '_nparams_nnz': Array(41568., dtype=float32), '_nparams': Array(824458., dtype=float32)}\n",
            "{'_total_sparsity': Array(0.94958144, dtype=float32), '_nparams_nnz': Array(41568., dtype=float32), '_nparams': Array(824458., dtype=float32)}\n",
            "{'_total_sparsity': Array(0.94958144, dtype=float32), '_nparams_nnz': Array(41568., dtype=float32), '_nparams': Array(824458., dtype=float32)}\n",
            "{'_total_sparsity': Array(0.94958144, dtype=float32), '_nparams_nnz': Array(41568., dtype=float32), '_nparams': Array(824458., dtype=float32)}\n",
            "epoch:  3, train_loss: 0.1040, train_accuracy: 96.83, test_loss: 0.0922, test_accuracy: 97.01, time: 1.14\n"
          ]
        }
      ],
      "source": [
        "config.sparsity_config.algorithm = 'static_sparse'\n",
        "\n",
        "state = train_and_evaluate(config)"
      ]
    },
    {
      "cell_type": "markdown",
      "metadata": {
        "id": "6rVpOIeDlvyJ"
      },
      "source": [
        "# Pruning After Training"
      ]
    },
    {
      "cell_type": "code",
      "execution_count": 19,
      "metadata": {
        "id": "fpZeZRXNlkQf"
      },
      "outputs": [
        {
          "name": "stderr",
          "output_type": "stream",
          "text": [
            "INFO:absl:Load dataset info from /home/dima/tensorflow_datasets/mnist/3.0.1\n",
            "INFO:absl:Reusing dataset mnist (/home/dima/tensorflow_datasets/mnist/3.0.1)\n",
            "INFO:absl:Creating a tf.data.Dataset reading 1 files located in folders: /home/dima/tensorflow_datasets/mnist/3.0.1.\n",
            "INFO:absl:Constructing tf.data.Dataset mnist for split train, from /home/dima/tensorflow_datasets/mnist/3.0.1\n",
            "INFO:absl:Creating a tf.data.Dataset reading 1 files located in folders: /home/dima/tensorflow_datasets/mnist/3.0.1.\n",
            "INFO:absl:Constructing tf.data.Dataset mnist for split test, from /home/dima/tensorflow_datasets/mnist/3.0.1\n"
          ]
        },
        {
          "name": "stdout",
          "output_type": "stream",
          "text": [
            "{'_total_sparsity': Array(2.0623207e-05, dtype=float32), '_nparams_nnz': Array(824441., dtype=float32), '_nparams': Array(824458., dtype=float32)}\n",
            "{'_total_sparsity': Array(0., dtype=float32), '_nparams_nnz': Array(824458., dtype=float32), '_nparams': Array(824458., dtype=float32)}\n",
            "{'_total_sparsity': Array(0., dtype=float32), '_nparams_nnz': Array(824458., dtype=float32), '_nparams': Array(824458., dtype=float32)}\n",
            "{'_total_sparsity': Array(0., dtype=float32), '_nparams_nnz': Array(824458., dtype=float32), '_nparams': Array(824458., dtype=float32)}\n",
            "{'_total_sparsity': Array(0., dtype=float32), '_nparams_nnz': Array(824458., dtype=float32), '_nparams': Array(824458., dtype=float32)}\n",
            "epoch:  1, train_loss: 0.2289, train_accuracy: 93.35, test_loss: 0.0520, test_accuracy: 98.17, time: 3.02\n",
            "{'_total_sparsity': Array(0., dtype=float32), '_nparams_nnz': Array(824458., dtype=float32), '_nparams': Array(824458., dtype=float32)}\n",
            "{'_total_sparsity': Array(0., dtype=float32), '_nparams_nnz': Array(824458., dtype=float32), '_nparams': Array(824458., dtype=float32)}\n",
            "{'_total_sparsity': Array(0., dtype=float32), '_nparams_nnz': Array(824458., dtype=float32), '_nparams': Array(824458., dtype=float32)}\n",
            "{'_total_sparsity': Array(0., dtype=float32), '_nparams_nnz': Array(824458., dtype=float32), '_nparams': Array(824458., dtype=float32)}\n",
            "{'_total_sparsity': Array(0., dtype=float32), '_nparams_nnz': Array(824458., dtype=float32), '_nparams': Array(824458., dtype=float32)}\n",
            "epoch:  2, train_loss: 0.0492, train_accuracy: 98.47, test_loss: 0.0373, test_accuracy: 98.81, time: 0.87\n",
            "{'_total_sparsity': Array(0., dtype=float32), '_nparams_nnz': Array(824458., dtype=float32), '_nparams': Array(824458., dtype=float32)}\n",
            "{'_total_sparsity': Array(0., dtype=float32), '_nparams_nnz': Array(824458., dtype=float32), '_nparams': Array(824458., dtype=float32)}\n",
            "{'_total_sparsity': Array(0., dtype=float32), '_nparams_nnz': Array(824458., dtype=float32), '_nparams': Array(824458., dtype=float32)}\n",
            "{'_total_sparsity': Array(0., dtype=float32), '_nparams_nnz': Array(824458., dtype=float32), '_nparams': Array(824458., dtype=float32)}\n",
            "{'_total_sparsity': Array(0., dtype=float32), '_nparams_nnz': Array(824458., dtype=float32), '_nparams': Array(824458., dtype=float32)}\n",
            "epoch:  3, train_loss: 0.0345, train_accuracy: 98.89, test_loss: 0.0309, test_accuracy: 98.84, time: 0.88\n"
          ]
        }
      ],
      "source": [
        "config.sparsity_config.algorithm = 'no_prune'\n",
        "state = train_and_evaluate(config)"
      ]
    },
    {
      "cell_type": "code",
      "execution_count": 20,
      "metadata": {
        "id": "0q8fDRRnlqla"
      },
      "outputs": [
        {
          "name": "stdout",
          "output_type": "stream",
          "text": [
            "{'_total_sparsity': Array(0.8996031, dtype=float32), '_nparams_nnz': Array(82773., dtype=float32), '_nparams': Array(824458., dtype=float32)}\n"
          ]
        }
      ],
      "source": [
        "config.sparsity_config.algorithm = 'magnitude'\n",
        "config.sparsity_config.sparsity = 0.9\n",
        "sparsity_updater = jaxpruner.create_updater_from_config(config.sparsity_config)\n",
        "pruned_params, _ = sparsity_updater.instant_sparsify(state.params)\n",
        "print(jaxpruner.summarize_sparsity(pruned_params, only_total_sparsity=True))"
      ]
    },
    {
      "cell_type": "code",
      "execution_count": 21,
      "metadata": {
        "id": "_UMvlEqlwcee"
      },
      "outputs": [
        {
          "name": "stderr",
          "output_type": "stream",
          "text": [
            "INFO:absl:Load dataset info from /home/dima/tensorflow_datasets/mnist/3.0.1\n",
            "INFO:absl:Reusing dataset mnist (/home/dima/tensorflow_datasets/mnist/3.0.1)\n",
            "INFO:absl:Creating a tf.data.Dataset reading 1 files located in folders: /home/dima/tensorflow_datasets/mnist/3.0.1.\n",
            "INFO:absl:Constructing tf.data.Dataset mnist for split train, from /home/dima/tensorflow_datasets/mnist/3.0.1\n",
            "INFO:absl:Creating a tf.data.Dataset reading 1 files located in folders: /home/dima/tensorflow_datasets/mnist/3.0.1.\n",
            "INFO:absl:Constructing tf.data.Dataset mnist for split test, from /home/dima/tensorflow_datasets/mnist/3.0.1\n"
          ]
        },
        {
          "name": "stdout",
          "output_type": "stream",
          "text": [
            "98.759995\n"
          ]
        }
      ],
      "source": [
        "_, test_ds = get_datasets()\n",
        "pruned_state = state.replace(params=pruned_params)\n",
        "_, _, test_accuracy  = apply_model(pruned_state, test_ds['image'], test_ds['label'])\n",
        "print(test_accuracy*100)"
      ]
    },
    {
      "cell_type": "markdown",
      "metadata": {
        "id": "EdHqmTATHuJx"
      },
      "source": [
        "# N:M sparsity"
      ]
    },
    {
      "cell_type": "code",
      "execution_count": 27,
      "metadata": {},
      "outputs": [
        {
          "name": "stdout",
          "output_type": "stream",
          "text": [
            "Conv_0bias (32,)\n",
            "Conv_0kernel (3, 3, 1, 32)\n",
            "Conv_1bias (64,)\n",
            "Conv_1kernel (3, 3, 32, 64)\n",
            "Dense_0bias (256,)\n",
            "Dense_0kernel (3136, 256)\n",
            "Dense_1bias (10,)\n",
            "Dense_1kernel (256, 10)\n"
          ]
        }
      ],
      "source": [
        "for ln in state.params:\n",
        "    for wn in state.params[ln]:\n",
        "        print(ln + wn, state.params[ln][wn].shape)"
      ]
    },
    {
      "cell_type": "code",
      "execution_count": 28,
      "metadata": {
        "id": "6OrndhnkHwYb"
      },
      "outputs": [
        {
          "name": "stdout",
          "output_type": "stream",
          "text": [
            "{'_total_sparsity': Array(0.49805325, dtype=float32), '_nparams_nnz': Array(413834., dtype=float32), '_nparams': Array(824458., dtype=float32)}\n"
          ]
        }
      ],
      "source": [
        "config.sparsity_config.algorithm = 'magnitude'\n",
        "config.sparsity_config.sparsity_type = 'nm_1,2'\n",
        "sparsity_updater = jaxpruner.create_updater_from_config(config.sparsity_config)\n",
        "pruned_params, masks = sparsity_updater.instant_sparsify(state.params)\n",
        "print(jaxpruner.summarize_sparsity(pruned_params, only_total_sparsity=True))"
      ]
    },
    {
      "cell_type": "code",
      "execution_count": 29,
      "metadata": {
        "id": "kjv8gu_SJeZI"
      },
      "outputs": [
        {
          "data": {
            "text/plain": [
              "Array([1, 0, 1, 0, 1, 0, 1, 0, 1, 0, 0, 1, 1, 0, 0, 1], dtype=uint8)"
            ]
          },
          "execution_count": 29,
          "metadata": {},
          "output_type": "execute_result"
        }
      ],
      "source": [
        "masks['Dense_0']['kernel'][0][:16]"
      ]
    },
    {
      "cell_type": "code",
      "execution_count": 30,
      "metadata": {
        "id": "8SL4ASPqHsdw"
      },
      "outputs": [
        {
          "name": "stderr",
          "output_type": "stream",
          "text": [
            "INFO:absl:Load dataset info from /home/dima/tensorflow_datasets/mnist/3.0.1\n",
            "INFO:absl:Reusing dataset mnist (/home/dima/tensorflow_datasets/mnist/3.0.1)\n",
            "INFO:absl:Creating a tf.data.Dataset reading 1 files located in folders: /home/dima/tensorflow_datasets/mnist/3.0.1.\n",
            "INFO:absl:Constructing tf.data.Dataset mnist for split train, from /home/dima/tensorflow_datasets/mnist/3.0.1\n",
            "INFO:absl:Creating a tf.data.Dataset reading 1 files located in folders: /home/dima/tensorflow_datasets/mnist/3.0.1.\n",
            "INFO:absl:Constructing tf.data.Dataset mnist for split test, from /home/dima/tensorflow_datasets/mnist/3.0.1\n"
          ]
        },
        {
          "name": "stdout",
          "output_type": "stream",
          "text": [
            "98.799995\n"
          ]
        }
      ],
      "source": [
        "_, test_ds = get_datasets()\n",
        "pruned_state = state.replace(params=pruned_params)\n",
        "_, _, test_accuracy  = apply_model(pruned_state, test_ds['image'], test_ds['label'])\n",
        "print(test_accuracy*100)"
      ]
    },
    {
      "cell_type": "markdown",
      "metadata": {
        "id": "7tJ-Y0LSJ6b5"
      },
      "source": [
        "# Block Sparsity"
      ]
    },
    {
      "cell_type": "code",
      "execution_count": 31,
      "metadata": {
        "id": "l54RegrQJ50D"
      },
      "outputs": [
        {
          "name": "stdout",
          "output_type": "stream",
          "text": [
            "{'_total_sparsity': Array(0.700892, dtype=float32), '_nparams_nnz': Array(246602., dtype=float32), '_nparams': Array(824458., dtype=float32)}\n"
          ]
        }
      ],
      "source": [
        "config.sparsity_config.algorithm = 'magnitude'\n",
        "config.sparsity_config.sparsity = 0.7\n",
        "config.sparsity_config.sparsity_type = 'block_2,2'\n",
        "sparsity_updater = jaxpruner.create_updater_from_config(config.sparsity_config)\n",
        "pruned_params, masks = sparsity_updater.instant_sparsify(state.params)\n",
        "print(jaxpruner.summarize_sparsity(pruned_params, only_total_sparsity=True))"
      ]
    },
    {
      "cell_type": "code",
      "execution_count": 32,
      "metadata": {
        "id": "q0vONI48KEaG"
      },
      "outputs": [
        {
          "data": {
            "text/plain": [
              "Array([[0, 0, 0, 0, 0, 0, 0, 0, 1, 1, 0, 0, 0, 0, 0, 0],\n",
              "       [0, 0, 0, 0, 0, 0, 0, 0, 1, 1, 0, 0, 0, 0, 0, 0],\n",
              "       [0, 0, 0, 0, 0, 0, 0, 0, 0, 0, 0, 0, 0, 0, 0, 0],\n",
              "       [0, 0, 0, 0, 0, 0, 0, 0, 0, 0, 0, 0, 0, 0, 0, 0]], dtype=uint8)"
            ]
          },
          "execution_count": 32,
          "metadata": {},
          "output_type": "execute_result"
        }
      ],
      "source": [
        "masks['Dense_0']['kernel'][:4, :16]"
      ]
    },
    {
      "cell_type": "code",
      "execution_count": 33,
      "metadata": {
        "id": "rrNGCVeEJ_Fx"
      },
      "outputs": [
        {
          "name": "stderr",
          "output_type": "stream",
          "text": [
            "INFO:absl:Load dataset info from /home/dima/tensorflow_datasets/mnist/3.0.1\n",
            "INFO:absl:Reusing dataset mnist (/home/dima/tensorflow_datasets/mnist/3.0.1)\n",
            "INFO:absl:Creating a tf.data.Dataset reading 1 files located in folders: /home/dima/tensorflow_datasets/mnist/3.0.1.\n",
            "INFO:absl:Constructing tf.data.Dataset mnist for split train, from /home/dima/tensorflow_datasets/mnist/3.0.1\n",
            "INFO:absl:Creating a tf.data.Dataset reading 1 files located in folders: /home/dima/tensorflow_datasets/mnist/3.0.1.\n",
            "INFO:absl:Constructing tf.data.Dataset mnist for split test, from /home/dima/tensorflow_datasets/mnist/3.0.1\n"
          ]
        },
        {
          "name": "stdout",
          "output_type": "stream",
          "text": [
            "60.52\n"
          ]
        }
      ],
      "source": [
        "_, test_ds = get_datasets()\n",
        "pruned_state = state.replace(params=pruned_params)\n",
        "_, _, test_accuracy  = apply_model(pruned_state, test_ds['image'], test_ds['label'])\n",
        "print(test_accuracy*100)"
      ]
    }
  ],
  "metadata": {
    "accelerator": "GPU",
    "colab": {
      "last_runtime": {
        "build_target": "//learning/grp/tools/ml_python:ml_notebook",
        "kind": "private"
      },
      "private_outputs": true,
      "provenance": [],
      "toc_visible": true
    },
    "kernelspec": {
      "display_name": "bmr",
      "language": "python",
      "name": "python3"
    },
    "language_info": {
      "codemirror_mode": {
        "name": "ipython",
        "version": 3
      },
      "file_extension": ".py",
      "mimetype": "text/x-python",
      "name": "python",
      "nbconvert_exporter": "python",
      "pygments_lexer": "ipython3",
      "version": "3.11.13"
    },
    "orig_nbformat": 2
  },
  "nbformat": 4,
  "nbformat_minor": 0
}
